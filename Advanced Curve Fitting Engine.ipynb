{
 "cells": [
  {
   "cell_type": "markdown",
   "id": "82ab24d9-b2db-4aa3-9549-8b19446b527e",
   "metadata": {},
   "source": [
    "# 1. Import Required Libraries"
   ]
  },
  {
   "cell_type": "code",
   "execution_count": 1,
   "id": "e41fdf96-c34d-41d6-957e-9e9570186bb3",
   "metadata": {},
   "outputs": [],
   "source": [
    "import numpy as np \n",
    "import pandas as pd \n",
    "\n",
    "# Import graphical plotting libraries \n",
    "import matplotlib.pyplot as plt \n",
    "import seaborn as sns\n",
    "%matplotlib inline\n",
    "\n",
    "# Import Linear Regression Machine Learning Libraries\n",
    "from sklearn import preprocessing\n",
    "from sklearn.preprocessing import PolynomialFeatures\n",
    "from sklearn.model_selection import train_test_split\n",
    "\n",
    "from sklearn.linear_model import LinearRegression, Ridge, Lasso\n",
    "from sklearn.metrics import r2_score"
   ]
  },
  {
   "cell_type": "code",
   "execution_count": 3,
   "id": "32de7db5-b784-4f2f-b5c3-3640c911bc39",
   "metadata": {},
   "outputs": [],
   "source": [
    "import warnings\n",
    "warnings.filterwarnings('ignore')"
   ]
  },
  {
   "cell_type": "markdown",
   "id": "503d8c6c-e53e-42ad-ad75-edadf3110e11",
   "metadata": {},
   "source": [
    "# 2. Load and Inspect Data"
   ]
  },
  {
   "cell_type": "code",
   "execution_count": 61,
   "id": "64e7929f-8505-4f7e-ab5c-f7567eb81e94",
   "metadata": {},
   "outputs": [
    {
     "name": "stdout",
     "output_type": "stream",
     "text": [
      "Index(['mpg', 'cyl', 'disp', 'hp', 'wt', 'acc', 'yr', 'origin', 'car_type',\n",
      "       'car_name'],\n",
      "      dtype='object')\n",
      "<class 'pandas.core.frame.DataFrame'>\n",
      "RangeIndex: 398 entries, 0 to 397\n",
      "Data columns (total 10 columns):\n",
      " #   Column    Non-Null Count  Dtype  \n",
      "---  ------    --------------  -----  \n",
      " 0   mpg       398 non-null    float64\n",
      " 1   cyl       398 non-null    int64  \n",
      " 2   disp      398 non-null    float64\n",
      " 3   hp        398 non-null    object \n",
      " 4   wt        398 non-null    int64  \n",
      " 5   acc       398 non-null    float64\n",
      " 6   yr        398 non-null    int64  \n",
      " 7   origin    398 non-null    int64  \n",
      " 8   car_type  398 non-null    int64  \n",
      " 9   car_name  398 non-null    object \n",
      "dtypes: float64(3), int64(5), object(2)\n",
      "memory usage: 31.2+ KB\n"
     ]
    }
   ],
   "source": [
    "# Load the dataset\n",
    "data = pd.read_csv(r\"D:\\FSDS Material\\Dataset\\L-R-R.csv\")\n",
    "\n",
    "# Display the first few rows of the dataset to get a quick overview\n",
    "data.head()\n",
    "\n",
    "# Print the column names of the dataset\n",
    "print(data.columns)\n",
    "\n",
    "# Check the data types and general info about the dataset\n",
    "data.info()\n"
   ]
  },
  {
   "cell_type": "code",
   "execution_count": 74,
   "id": "0af87384-7f0b-4d2c-9b09-7b3d96b346e4",
   "metadata": {},
   "outputs": [
    {
     "data": {
      "text/html": [
       "<div>\n",
       "<style scoped>\n",
       "    .dataframe tbody tr th:only-of-type {\n",
       "        vertical-align: middle;\n",
       "    }\n",
       "\n",
       "    .dataframe tbody tr th {\n",
       "        vertical-align: top;\n",
       "    }\n",
       "\n",
       "    .dataframe thead th {\n",
       "        text-align: right;\n",
       "    }\n",
       "</style>\n",
       "<table border=\"1\" class=\"dataframe\">\n",
       "  <thead>\n",
       "    <tr style=\"text-align: right;\">\n",
       "      <th></th>\n",
       "      <th>mpg</th>\n",
       "      <th>cyl</th>\n",
       "      <th>disp</th>\n",
       "      <th>hp</th>\n",
       "      <th>wt</th>\n",
       "      <th>acc</th>\n",
       "      <th>yr</th>\n",
       "      <th>car_type</th>\n",
       "      <th>origin_america</th>\n",
       "      <th>origin_asia</th>\n",
       "      <th>origin_europe</th>\n",
       "    </tr>\n",
       "  </thead>\n",
       "  <tbody>\n",
       "    <tr>\n",
       "      <th>0</th>\n",
       "      <td>18.0</td>\n",
       "      <td>8</td>\n",
       "      <td>307.0</td>\n",
       "      <td>130.0</td>\n",
       "      <td>3504</td>\n",
       "      <td>12.0</td>\n",
       "      <td>70</td>\n",
       "      <td>0</td>\n",
       "      <td>True</td>\n",
       "      <td>False</td>\n",
       "      <td>False</td>\n",
       "    </tr>\n",
       "    <tr>\n",
       "      <th>1</th>\n",
       "      <td>15.0</td>\n",
       "      <td>8</td>\n",
       "      <td>350.0</td>\n",
       "      <td>165.0</td>\n",
       "      <td>3693</td>\n",
       "      <td>11.5</td>\n",
       "      <td>70</td>\n",
       "      <td>0</td>\n",
       "      <td>True</td>\n",
       "      <td>False</td>\n",
       "      <td>False</td>\n",
       "    </tr>\n",
       "    <tr>\n",
       "      <th>2</th>\n",
       "      <td>18.0</td>\n",
       "      <td>8</td>\n",
       "      <td>318.0</td>\n",
       "      <td>150.0</td>\n",
       "      <td>3436</td>\n",
       "      <td>11.0</td>\n",
       "      <td>70</td>\n",
       "      <td>0</td>\n",
       "      <td>True</td>\n",
       "      <td>False</td>\n",
       "      <td>False</td>\n",
       "    </tr>\n",
       "    <tr>\n",
       "      <th>3</th>\n",
       "      <td>16.0</td>\n",
       "      <td>8</td>\n",
       "      <td>304.0</td>\n",
       "      <td>150.0</td>\n",
       "      <td>3433</td>\n",
       "      <td>12.0</td>\n",
       "      <td>70</td>\n",
       "      <td>0</td>\n",
       "      <td>True</td>\n",
       "      <td>False</td>\n",
       "      <td>False</td>\n",
       "    </tr>\n",
       "    <tr>\n",
       "      <th>4</th>\n",
       "      <td>17.0</td>\n",
       "      <td>8</td>\n",
       "      <td>302.0</td>\n",
       "      <td>140.0</td>\n",
       "      <td>3449</td>\n",
       "      <td>10.5</td>\n",
       "      <td>70</td>\n",
       "      <td>0</td>\n",
       "      <td>True</td>\n",
       "      <td>False</td>\n",
       "      <td>False</td>\n",
       "    </tr>\n",
       "    <tr>\n",
       "      <th>...</th>\n",
       "      <td>...</td>\n",
       "      <td>...</td>\n",
       "      <td>...</td>\n",
       "      <td>...</td>\n",
       "      <td>...</td>\n",
       "      <td>...</td>\n",
       "      <td>...</td>\n",
       "      <td>...</td>\n",
       "      <td>...</td>\n",
       "      <td>...</td>\n",
       "      <td>...</td>\n",
       "    </tr>\n",
       "    <tr>\n",
       "      <th>393</th>\n",
       "      <td>27.0</td>\n",
       "      <td>4</td>\n",
       "      <td>140.0</td>\n",
       "      <td>86.0</td>\n",
       "      <td>2790</td>\n",
       "      <td>15.6</td>\n",
       "      <td>82</td>\n",
       "      <td>1</td>\n",
       "      <td>True</td>\n",
       "      <td>False</td>\n",
       "      <td>False</td>\n",
       "    </tr>\n",
       "    <tr>\n",
       "      <th>394</th>\n",
       "      <td>44.0</td>\n",
       "      <td>4</td>\n",
       "      <td>97.0</td>\n",
       "      <td>52.0</td>\n",
       "      <td>2130</td>\n",
       "      <td>24.6</td>\n",
       "      <td>82</td>\n",
       "      <td>1</td>\n",
       "      <td>False</td>\n",
       "      <td>False</td>\n",
       "      <td>True</td>\n",
       "    </tr>\n",
       "    <tr>\n",
       "      <th>395</th>\n",
       "      <td>32.0</td>\n",
       "      <td>4</td>\n",
       "      <td>135.0</td>\n",
       "      <td>84.0</td>\n",
       "      <td>2295</td>\n",
       "      <td>11.6</td>\n",
       "      <td>82</td>\n",
       "      <td>1</td>\n",
       "      <td>True</td>\n",
       "      <td>False</td>\n",
       "      <td>False</td>\n",
       "    </tr>\n",
       "    <tr>\n",
       "      <th>396</th>\n",
       "      <td>28.0</td>\n",
       "      <td>4</td>\n",
       "      <td>120.0</td>\n",
       "      <td>79.0</td>\n",
       "      <td>2625</td>\n",
       "      <td>18.6</td>\n",
       "      <td>82</td>\n",
       "      <td>1</td>\n",
       "      <td>True</td>\n",
       "      <td>False</td>\n",
       "      <td>False</td>\n",
       "    </tr>\n",
       "    <tr>\n",
       "      <th>397</th>\n",
       "      <td>31.0</td>\n",
       "      <td>4</td>\n",
       "      <td>119.0</td>\n",
       "      <td>82.0</td>\n",
       "      <td>2720</td>\n",
       "      <td>19.4</td>\n",
       "      <td>82</td>\n",
       "      <td>1</td>\n",
       "      <td>True</td>\n",
       "      <td>False</td>\n",
       "      <td>False</td>\n",
       "    </tr>\n",
       "  </tbody>\n",
       "</table>\n",
       "<p>398 rows × 11 columns</p>\n",
       "</div>"
      ],
      "text/plain": [
       "      mpg  cyl   disp     hp    wt   acc  yr  car_type  origin_america  \\\n",
       "0    18.0    8  307.0  130.0  3504  12.0  70         0            True   \n",
       "1    15.0    8  350.0  165.0  3693  11.5  70         0            True   \n",
       "2    18.0    8  318.0  150.0  3436  11.0  70         0            True   \n",
       "3    16.0    8  304.0  150.0  3433  12.0  70         0            True   \n",
       "4    17.0    8  302.0  140.0  3449  10.5  70         0            True   \n",
       "..    ...  ...    ...    ...   ...   ...  ..       ...             ...   \n",
       "393  27.0    4  140.0   86.0  2790  15.6  82         1            True   \n",
       "394  44.0    4   97.0   52.0  2130  24.6  82         1           False   \n",
       "395  32.0    4  135.0   84.0  2295  11.6  82         1            True   \n",
       "396  28.0    4  120.0   79.0  2625  18.6  82         1            True   \n",
       "397  31.0    4  119.0   82.0  2720  19.4  82         1            True   \n",
       "\n",
       "     origin_asia  origin_europe  \n",
       "0          False          False  \n",
       "1          False          False  \n",
       "2          False          False  \n",
       "3          False          False  \n",
       "4          False          False  \n",
       "..           ...            ...  \n",
       "393        False          False  \n",
       "394        False           True  \n",
       "395        False          False  \n",
       "396        False          False  \n",
       "397        False          False  \n",
       "\n",
       "[398 rows x 11 columns]"
      ]
     },
     "execution_count": 74,
     "metadata": {},
     "output_type": "execute_result"
    }
   ],
   "source": [
    "data"
   ]
  },
  {
   "cell_type": "code",
   "execution_count": 63,
   "id": "597d0c7b-152b-4b1c-bc3d-50db5e163690",
   "metadata": {},
   "outputs": [
    {
     "data": {
      "text/plain": [
       "mpg         0\n",
       "cyl         0\n",
       "disp        0\n",
       "hp          0\n",
       "wt          0\n",
       "acc         0\n",
       "yr          0\n",
       "origin      0\n",
       "car_type    0\n",
       "car_name    0\n",
       "dtype: int64"
      ]
     },
     "execution_count": 63,
     "metadata": {},
     "output_type": "execute_result"
    }
   ],
   "source": [
    "# Check for missing values in each column\n",
    "data.isnull().sum()"
   ]
  },
  {
   "cell_type": "markdown",
   "id": "8b6973a2-65c9-4416-9a43-89afd39eeb0c",
   "metadata": {},
   "source": [
    "# Purpose: Load the dataset into a DataFrame and inspect the first few rows, column names, missing values, and data types. This helps in understanding the structure of the data before proceeding with analysis."
   ]
  },
  {
   "cell_type": "markdown",
   "id": "edf46fd9-34e3-4131-aabc-2dbc9c80fa67",
   "metadata": {},
   "source": [
    "# 3. Data Preprocessing"
   ]
  },
  {
   "cell_type": "code",
   "execution_count": 68,
   "id": "ece4dc6c-d9b3-4099-9635-0f97186bb0f4",
   "metadata": {},
   "outputs": [],
   "source": [
    "# Check and drop the 'car_name' column if it exists, as it is non-numeric\n",
    "if 'car_name' in data.columns:\n",
    "    data = data.drop(['car_name'], axis=1)\n",
    "\n",
    "# Replace 'origin' values with their respective region names\n",
    "data['origin'] = data['origin'].replace({1: 'america', 2: 'europe', 3: 'asia'})\n",
    "\n",
    "# Perform one-hot encoding on 'origin' to convert categorical data into numeric format\n",
    "data = pd.get_dummies(data, columns=['origin'])\n",
    "\n",
    "# Replace '?' with NaN (missing values)\n",
    "data = data.replace('?', np.nan)\n",
    "\n",
    "# Convert columns with numeric values to the appropriate types\n",
    "data = data.apply(pd.to_numeric, errors='ignore')\n",
    "\n",
    "# Fill missing values with the median of each column (only for numeric columns)\n",
    "data = data.apply(lambda x: x.fillna(x.median()) if x.dtype.kind in 'biufc' else x, axis=0)\n"
   ]
  },
  {
   "cell_type": "markdown",
   "id": "17f95684-ab65-47c2-a245-432a9abbb40d",
   "metadata": {},
   "source": [
    "# Purpose: This part handles missing data, encodes categorical variables, and replaces non-numeric values. It also ensures that all numeric columns have appropriate types and fills missing values with the median for consistency.\n"
   ]
  },
  {
   "cell_type": "code",
   "execution_count": 72,
   "id": "1e00c6a3-4a66-4c07-9a35-74b9277cb631",
   "metadata": {},
   "outputs": [
    {
     "data": {
      "text/html": [
       "<div>\n",
       "<style scoped>\n",
       "    .dataframe tbody tr th:only-of-type {\n",
       "        vertical-align: middle;\n",
       "    }\n",
       "\n",
       "    .dataframe tbody tr th {\n",
       "        vertical-align: top;\n",
       "    }\n",
       "\n",
       "    .dataframe thead th {\n",
       "        text-align: right;\n",
       "    }\n",
       "</style>\n",
       "<table border=\"1\" class=\"dataframe\">\n",
       "  <thead>\n",
       "    <tr style=\"text-align: right;\">\n",
       "      <th></th>\n",
       "      <th>mpg</th>\n",
       "      <th>cyl</th>\n",
       "      <th>disp</th>\n",
       "      <th>hp</th>\n",
       "      <th>wt</th>\n",
       "      <th>acc</th>\n",
       "      <th>yr</th>\n",
       "      <th>car_type</th>\n",
       "      <th>origin_america</th>\n",
       "      <th>origin_asia</th>\n",
       "      <th>origin_europe</th>\n",
       "    </tr>\n",
       "  </thead>\n",
       "  <tbody>\n",
       "    <tr>\n",
       "      <th>0</th>\n",
       "      <td>18.0</td>\n",
       "      <td>8</td>\n",
       "      <td>307.0</td>\n",
       "      <td>130.0</td>\n",
       "      <td>3504</td>\n",
       "      <td>12.0</td>\n",
       "      <td>70</td>\n",
       "      <td>0</td>\n",
       "      <td>True</td>\n",
       "      <td>False</td>\n",
       "      <td>False</td>\n",
       "    </tr>\n",
       "    <tr>\n",
       "      <th>1</th>\n",
       "      <td>15.0</td>\n",
       "      <td>8</td>\n",
       "      <td>350.0</td>\n",
       "      <td>165.0</td>\n",
       "      <td>3693</td>\n",
       "      <td>11.5</td>\n",
       "      <td>70</td>\n",
       "      <td>0</td>\n",
       "      <td>True</td>\n",
       "      <td>False</td>\n",
       "      <td>False</td>\n",
       "    </tr>\n",
       "    <tr>\n",
       "      <th>2</th>\n",
       "      <td>18.0</td>\n",
       "      <td>8</td>\n",
       "      <td>318.0</td>\n",
       "      <td>150.0</td>\n",
       "      <td>3436</td>\n",
       "      <td>11.0</td>\n",
       "      <td>70</td>\n",
       "      <td>0</td>\n",
       "      <td>True</td>\n",
       "      <td>False</td>\n",
       "      <td>False</td>\n",
       "    </tr>\n",
       "    <tr>\n",
       "      <th>3</th>\n",
       "      <td>16.0</td>\n",
       "      <td>8</td>\n",
       "      <td>304.0</td>\n",
       "      <td>150.0</td>\n",
       "      <td>3433</td>\n",
       "      <td>12.0</td>\n",
       "      <td>70</td>\n",
       "      <td>0</td>\n",
       "      <td>True</td>\n",
       "      <td>False</td>\n",
       "      <td>False</td>\n",
       "    </tr>\n",
       "    <tr>\n",
       "      <th>4</th>\n",
       "      <td>17.0</td>\n",
       "      <td>8</td>\n",
       "      <td>302.0</td>\n",
       "      <td>140.0</td>\n",
       "      <td>3449</td>\n",
       "      <td>10.5</td>\n",
       "      <td>70</td>\n",
       "      <td>0</td>\n",
       "      <td>True</td>\n",
       "      <td>False</td>\n",
       "      <td>False</td>\n",
       "    </tr>\n",
       "  </tbody>\n",
       "</table>\n",
       "</div>"
      ],
      "text/plain": [
       "    mpg  cyl   disp     hp    wt   acc  yr  car_type  origin_america  \\\n",
       "0  18.0    8  307.0  130.0  3504  12.0  70         0            True   \n",
       "1  15.0    8  350.0  165.0  3693  11.5  70         0            True   \n",
       "2  18.0    8  318.0  150.0  3436  11.0  70         0            True   \n",
       "3  16.0    8  304.0  150.0  3433  12.0  70         0            True   \n",
       "4  17.0    8  302.0  140.0  3449  10.5  70         0            True   \n",
       "\n",
       "   origin_asia  origin_europe  \n",
       "0        False          False  \n",
       "1        False          False  \n",
       "2        False          False  \n",
       "3        False          False  \n",
       "4        False          False  "
      ]
     },
     "execution_count": 72,
     "metadata": {},
     "output_type": "execute_result"
    }
   ],
   "source": [
    "data.head()"
   ]
  },
  {
   "cell_type": "markdown",
   "id": "f3284dba-51a9-4976-86d3-1193998baec5",
   "metadata": {},
   "source": [
    "# 4. Feature Scaling and Splitting Data"
   ]
  },
  {
   "cell_type": "code",
   "execution_count": 77,
   "id": "cebf8689-874c-4e3b-b085-26f6761ca922",
   "metadata": {},
   "outputs": [],
   "source": [
    "# Separate independent variables (X) and the dependent variable (y)\n",
    "x = data.drop(['mpg'], axis=1)  # Independent variables\n",
    "y = data[['mpg']]  # Dependent variable\n",
    "\n",
    "# Scale the independent variables (standardization)\n",
    "x_s = preprocessing.scale(x)\n",
    "x_s = pd.DataFrame(x_s, columns=x.columns)  # Convert scaled data into DataFrame\n",
    "\n",
    "# Scale the dependent variable\n",
    "y_s = preprocessing.scale(y)\n",
    "y_s = pd.DataFrame(y_s, columns=y.columns)\n"
   ]
  },
  {
   "cell_type": "markdown",
   "id": "fc9a1f92-9299-42ee-861c-da16bfd426fb",
   "metadata": {},
   "source": [
    "# Purpose: This section standardizes both the independent variables (features) and the dependent variable (target), ensuring that all values are scaled to have a mean of 0 and a variance of 1 for better model performance."
   ]
  },
  {
   "cell_type": "markdown",
   "id": "7726629e-02ac-4869-bc2c-0c0ea8c9e66b",
   "metadata": {},
   "source": [
    "# 5. Train-Test Split"
   ]
  },
  {
   "cell_type": "code",
   "execution_count": 88,
   "id": "30ff35be-869c-44cf-8d3b-221707dec1e7",
   "metadata": {},
   "outputs": [
    {
     "data": {
      "text/plain": [
       "(278, 10)"
      ]
     },
     "execution_count": 88,
     "metadata": {},
     "output_type": "execute_result"
    }
   ],
   "source": [
    "# Split the data into training and testing sets (70% train, 30% test)\n",
    "x_train, x_test, y_train, y_test = train_test_split(x_s, y_s, test_size=0.30, random_state=1)\n",
    "x_train.shape"
   ]
  },
  {
   "cell_type": "markdown",
   "id": "01379401-2590-4b16-82a1-857fb9a012aa",
   "metadata": {},
   "source": [
    "# Purpose: Split the data into training and testing sets, with 30% of the data reserved for testing to evaluate the model's performance."
   ]
  },
  {
   "cell_type": "markdown",
   "id": "2f42ce5c-f29c-41be-abf0-555236bf7931",
   "metadata": {},
   "source": [
    "# 6. Linear Regression Model"
   ]
  },
  {
   "cell_type": "code",
   "execution_count": 92,
   "id": "aa893f93-1c36-4c40-8f47-393da157e116",
   "metadata": {},
   "outputs": [
    {
     "name": "stdout",
     "output_type": "stream",
     "text": [
      "The coefficient for cyl is 0.3210223856916108\n",
      "The coefficient for disp is 0.3248343091848394\n",
      "The coefficient for hp is -0.2291695005943759\n",
      "The coefficient for wt is -0.7112101905072299\n",
      "The coefficient for acc is 0.014713682764191435\n",
      "The coefficient for yr is 0.3755811949510741\n",
      "The coefficient for car_type is 0.38147694842331\n",
      "The coefficient for origin_america is -0.0747224754758417\n",
      "The coefficient for origin_asia is 0.04451525203567813\n",
      "The coefficient for origin_europe is 0.04834854953945371\n",
      "The intercept is 0.019284116103639715\n"
     ]
    }
   ],
   "source": [
    "# Fit a simple linear regression model\n",
    "regression_model = LinearRegression()\n",
    "regression_model.fit(x_train, y_train)\n",
    "\n",
    "# Print the coefficients for each feature\n",
    "for idx, col_name in enumerate(x_train.columns):\n",
    "    print('The coefficient for {} is {}'.format(col_name, regression_model.coef_[0][idx]))\n",
    "\n",
    "# Print the intercept of the model\n",
    "intercept = regression_model.intercept_[0]\n",
    "print('The intercept is {}'.format(intercept))\n"
   ]
  },
  {
   "cell_type": "markdown",
   "id": "019cc8d4-722b-4c7a-af67-5d649af77d70",
   "metadata": {},
   "source": [
    "# Purpose: Fit a Linear Regression model to the training data and print the coefficients of each feature along with the intercept. The coefficients indicate the impact of each feature on the target variable."
   ]
  },
  {
   "cell_type": "markdown",
   "id": "d50a050d-e7ae-4f35-b39c-4a904966dc47",
   "metadata": {},
   "source": [
    "# 7. Ridge Regression Model"
   ]
  },
  {
   "cell_type": "code",
   "execution_count": 97,
   "id": "25f363d1-7051-4811-9c7d-f32e33e11e8f",
   "metadata": {},
   "outputs": [
    {
     "name": "stdout",
     "output_type": "stream",
     "text": [
      "Ridge model coef: [[ 0.31649043  0.31320707 -0.22876025 -0.70109447  0.01295851  0.37447352\n",
      "   0.37725608 -0.07423624  0.04441039  0.04784031]]\n"
     ]
    }
   ],
   "source": [
    "# Fit a Ridge regression model (with L2 regularization)\n",
    "ridge_model = Ridge(alpha=0.3)  # Regularization strength\n",
    "ridge_model.fit(x_train, y_train)\n",
    "\n",
    "# Print Ridge model coefficients\n",
    "print('Ridge model coef: {}'.format(ridge_model.coef_))\n",
    " "
   ]
  },
  {
   "cell_type": "markdown",
   "id": "1298a262-e066-40f8-b057-0c2336d405f4",
   "metadata": {},
   "source": [
    "# Purpose: Fit a Ridge Regression model, which adds L2 regularization to the Linear Regression model. This helps reduce overfitting by shrinking coefficients."
   ]
  },
  {
   "cell_type": "markdown",
   "id": "9b7c9080-e151-40ac-a567-7afaa3473a54",
   "metadata": {},
   "source": [
    "# 8. Lasso Regression Model"
   ]
  },
  {
   "cell_type": "code",
   "execution_count": 100,
   "id": "f3b1f797-65fd-4132-b50a-c728dacc812e",
   "metadata": {},
   "outputs": [
    {
     "name": "stdout",
     "output_type": "stream",
     "text": [
      "Lasso model coef: [-0.         -0.         -0.01690287 -0.51890013  0.          0.28138241\n",
      "  0.1278489  -0.01642647  0.          0.        ]\n"
     ]
    }
   ],
   "source": [
    "# Fit a Lasso regression model (with L1 regularization)\n",
    "lasso_model = Lasso(alpha=0.1)  # Regularization strength\n",
    "lasso_model.fit(x_train, y_train)\n",
    "\n",
    "# Print Lasso model coefficients\n",
    "print('Lasso model coef: {}'.format(lasso_model.coef_))\n"
   ]
  },
  {
   "cell_type": "markdown",
   "id": "34c4d166-23aa-4a71-8f57-3cb5abdc15a4",
   "metadata": {},
   "source": [
    "# Purpose: Fit a Lasso Regression model, which applies L1 regularization to perform feature selection by shrinking less important coefficients to zero"
   ]
  },
  {
   "cell_type": "markdown",
   "id": "98841276-f847-4e7f-8aa7-bbca44f26a7d",
   "metadata": {},
   "source": [
    "# 9. Model Evaluation (R² Score)"
   ]
  },
  {
   "cell_type": "code",
   "execution_count": 105,
   "id": "90cfa480-4897-41e7-8675-8e5682492075",
   "metadata": {},
   "outputs": [
    {
     "name": "stdout",
     "output_type": "stream",
     "text": [
      "Linear Regression R²: 0.8343770256960538\n",
      "Linear Regression Test R²: 0.8513421387780067\n",
      "*************************\n",
      "Ridge Regression R²: 0.8343617931312617\n",
      "Ridge Regression Test R²: 0.8518882171608501\n",
      "*************************\n",
      "Lasso Regression R²: 0.7938010766228453\n",
      "Lasso Regression Test R²: 0.8375229615977084\n"
     ]
    }
   ],
   "source": [
    "# Evaluate model performance using R-squared\n",
    "print('Linear Regression R²: {}'.format(regression_model.score(x_train, y_train)))\n",
    "print('Linear Regression Test R²: {}'.format(regression_model.score(x_test, y_test)))\n",
    "\n",
    "print('*************************')\n",
    "print('Ridge Regression R²: {}'.format(ridge_model.score(x_train, y_train)))\n",
    "print('Ridge Regression Test R²: {}'.format(ridge_model.score(x_test, y_test)))\n",
    "\n",
    "print('*************************')\n",
    "print('Lasso Regression R²: {}'.format(lasso_model.score(x_train, y_train)))\n",
    "print('Lasso Regression Test R²: {}'.format(lasso_model.score(x_test, y_test)))\n"
   ]
  },
  {
   "cell_type": "markdown",
   "id": "4142827f-b21b-4088-b93e-4db175de461b",
   "metadata": {},
   "source": [
    "# Purpose: Evaluate the performance of each model (Linear, Ridge, and Lasso) using the R² score, which indicates how well the model explains the variance in the target variable."
   ]
  },
  {
   "cell_type": "markdown",
   "id": "31fce2be-88e2-4684-aec2-269f161dfd00",
   "metadata": {},
   "source": [
    "# 10. OLS Regression"
   ]
  },
  {
   "cell_type": "code",
   "execution_count": 110,
   "id": "3fcfaf10-14a5-43fd-98c6-ebbbcb480247",
   "metadata": {},
   "outputs": [
    {
     "name": "stdout",
     "output_type": "stream",
     "text": [
      "                            OLS Regression Results                            \n",
      "==============================================================================\n",
      "Dep. Variable:                    mpg   R-squared:                       0.834\n",
      "Model:                            OLS   Adj. R-squared:                  0.829\n",
      "Method:                 Least Squares   F-statistic:                     150.0\n",
      "Date:                Fri, 06 Dec 2024   Prob (F-statistic):           3.12e-99\n",
      "Time:                        13:07:11   Log-Likelihood:                -146.89\n",
      "No. Observations:                 278   AIC:                             313.8\n",
      "Df Residuals:                     268   BIC:                             350.1\n",
      "Df Model:                           9                                         \n",
      "Covariance Type:            nonrobust                                         \n",
      "==================================================================================\n",
      "                     coef    std err          t      P>|t|      [0.025      0.975]\n",
      "----------------------------------------------------------------------------------\n",
      "Intercept          0.0193      0.025      0.765      0.445      -0.030       0.069\n",
      "cyl                0.3210      0.112      2.856      0.005       0.100       0.542\n",
      "disp               0.3248      0.128      2.544      0.012       0.073       0.576\n",
      "hp                -0.2292      0.079     -2.915      0.004      -0.384      -0.074\n",
      "wt                -0.7112      0.088     -8.118      0.000      -0.884      -0.539\n",
      "acc                0.0147      0.039      0.373      0.709      -0.063       0.092\n",
      "yr                 0.3756      0.029     13.088      0.000       0.319       0.432\n",
      "car_type           0.3815      0.067      5.728      0.000       0.250       0.513\n",
      "origin_america    -0.0747      0.020     -3.723      0.000      -0.114      -0.035\n",
      "origin_europe      0.0483      0.021      2.270      0.024       0.006       0.090\n",
      "origin_asia        0.0445      0.020      2.175      0.031       0.004       0.085\n",
      "==============================================================================\n",
      "Omnibus:                       22.678   Durbin-Watson:                   2.105\n",
      "Prob(Omnibus):                  0.000   Jarque-Bera (JB):               36.139\n",
      "Skew:                           0.513   Prob(JB):                     1.42e-08\n",
      "Kurtosis:                       4.438   Cond. No.                     1.04e+16\n",
      "==============================================================================\n",
      "\n",
      "Notes:\n",
      "[1] Standard Errors assume that the covariance matrix of the errors is correctly specified.\n",
      "[2] The smallest eigenvalue is 1.44e-29. This might indicate that there are\n",
      "strong multicollinearity problems or that the design matrix is singular.\n"
     ]
    }
   ],
   "source": [
    "# Fit an OLS model to analyze the relationship between features and target\n",
    "import statsmodels.formula.api as smf\n",
    "ols1 = smf.ols(formula='mpg ~ cyl+disp+hp+wt+acc+yr+car_type+origin_america+origin_europe+origin_asia', data=data_train_test).fit()\n",
    "\n",
    "# Print the OLS model parameters and summary\n",
    "ols1.params\n",
    "print(ols1.summary())\n"
   ]
  },
  {
   "cell_type": "markdown",
   "id": "e304e091-8eb7-48f1-ba12-48bcff79cf8c",
   "metadata": {},
   "source": [
    "# Purpose: Use OLS (Ordinary Least Squares) regression to analyze the relationships between multiple features and the target variable. The summary provides detailed statistical analysis."
   ]
  },
  {
   "cell_type": "markdown",
   "id": "d8d16342-12bc-4fad-93e3-617989b5f479",
   "metadata": {},
   "source": [
    "# 11. Model Error (RMSE)"
   ]
  },
  {
   "cell_type": "code",
   "execution_count": 114,
   "id": "aa32506c-acd9-4ea1-9d5b-029529c69569",
   "metadata": {},
   "outputs": [
    {
     "name": "stdout",
     "output_type": "stream",
     "text": [
      "Root Mean Squared Error: 0.3776693425408783\n"
     ]
    }
   ],
   "source": [
    "# Calculate Root Mean Squared Error (RMSE)\n",
    "mse = np.mean((regression_model.predict(x_test) - y_test) ** 2)\n",
    "import math\n",
    "rmse = math.sqrt(mse)\n",
    "print('Root Mean Squared Error: {}'.format(rmse))\n"
   ]
  },
  {
   "cell_type": "markdown",
   "id": "33347a12-f2d5-43d1-88a6-654377643e7c",
   "metadata": {},
   "source": [
    "# Purpose: Calculate and print the RMSE to evaluate how well the model performs, specifically its prediction error."
   ]
  },
  {
   "cell_type": "markdown",
   "id": "643296ea-8042-4a54-bae0-f0ae8adf9207",
   "metadata": {},
   "source": [
    "# 12. Residual Plots"
   ]
  },
  {
   "cell_type": "code",
   "execution_count": 118,
   "id": "3c8e7012-8527-4453-bb7a-b5a900af4ba3",
   "metadata": {},
   "outputs": [
    {
     "data": {
      "text/plain": [
       "<Axes: xlabel='acc', ylabel='mpg'>"
      ]
     },
     "execution_count": 118,
     "metadata": {},
     "output_type": "execute_result"
    },
    {
     "data": {
      "image/png": "[encoded data removed]",
      "text/plain": [
       "<Figure size 1000x800 with 1 Axes>"
      ]
     },
     "metadata": {},
     "output_type": "display_data"
    },
    {
     "data": {
      "image/png": "[encoded data removed]",
      "text/plain": [
       "<Figure size 1000x800 with 1 Axes>"
      ]
     },
     "metadata": {},
     "output_type": "display_data"
    }
   ],
   "source": [
    "# Plot residuals to visualize the performance of the model\n",
    "fig = plt.figure(figsize=(10,8))\n",
    "sns.residplot(x=x_test['hp'], y=y_test['mpg'], color='green', lowess=True)\n",
    "\n",
    "fig = plt.figure(figsize=(10,8))\n",
    "sns.residplot(x=x_test['acc'], y=y_test['mpg'], color='green', lowess=True)"
   ]
  },
  {
   "cell_type": "markdown",
   "id": "e3cd45c0-14bf-4d21-af98-75614ec2c31b",
   "metadata": {},
   "source": [
    "# Purpose: Use residual plots to check for patterns in the model's errors and confirm that the assumptions of linear regression hold."
   ]
  },
  {
   "cell_type": "code",
   "execution_count": 127,
   "id": "df96634e-9c09-4769-8cdb-b0c978bf91dd",
   "metadata": {},
   "outputs": [
    {
     "data": {
      "image/png": "[encoded data removed]",
      "text/plain": [
       "<Figure size 640x480 with 1 Axes>"
      ]
     },
     "metadata": {},
     "output_type": "display_data"
    }
   ],
   "source": [
    "# Predict the target values for the test set\n",
    "y_pred = regression_model.predict(x_test)\n",
    "\n",
    "# Plot the actual vs. predicted values to assess the model's performance visually\n",
    "plt.scatter(y_test['mpg'], y_pred, color='blue', alpha=0.6)\n",
    "plt.xlabel('Actual MPG')\n",
    "plt.ylabel('Predicted MPG')\n",
    "plt.title('Actual vs. Predicted MPG')\n",
    "plt.show()\n"
   ]
  },
  {
   "cell_type": "code",
   "execution_count": null,
   "id": "4cc3f681-503b-4fe5-9fb4-e2e443d7d9c3",
   "metadata": {},
   "outputs": [],
   "source": []
  },
  {
   "cell_type": "code",
   "execution_count": null,
   "id": "9f034a62-2a20-4e95-a112-310ca3ea0a16",
   "metadata": {},
   "outputs": [],
   "source": []
  }
 ],
 "metadata": {
  "kernelspec": {
   "display_name": "Python 3 (ipykernel)",
   "language": "python",
   "name": "python3"
  },
  "language_info": {
   "codemirror_mode": {
    "name": "ipython",
    "version": 3
   },
   "file_extension": ".py",
   "mimetype": "text/x-python",
   "name": "python",
   "nbconvert_exporter": "python",
   "pygments_lexer": "ipython3",
   "version": "3.12.4"
  }
 },
 "nbformat": 4,
 "nbformat_minor": 5
}
